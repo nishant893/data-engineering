{
  "nbformat": 4,
  "nbformat_minor": 0,
  "metadata": {
    "colab": {
      "name": "Data_visualization_and_coorelation.ipynb",
      "provenance": [],
      "authorship_tag": "ABX9TyMg6Ir6QlFACpnSygW1ZgQ0",
      "include_colab_link": true
    },
    "kernelspec": {
      "name": "python3",
      "display_name": "Python 3"
    },
    "language_info": {
      "name": "python"
    }
  },
  "cells": [
    {
      "cell_type": "markdown",
      "metadata": {
        "id": "view-in-github",
        "colab_type": "text"
      },
      "source": [
        "<a href=\"https://colab.research.google.com/github/nishant893/data-engineering/blob/main/Data_visualization_and_coorelation.ipynb\" target=\"_parent\"><img src=\"https://colab.research.google.com/assets/colab-badge.svg\" alt=\"Open In Colab\"/></a>"
      ]
    },
    {
      "cell_type": "code",
      "execution_count": null,
      "metadata": {
        "id": "P8wV2veCuXpu"
      },
      "outputs": [],
      "source": [
        "import pandas as pd\n",
        "import numpy as np\n",
        "import matplotlib as mpl\n",
        "import matplotlib.pyplot as plt\n",
        "%matplotlib inline\n",
        "import seaborn as sns\n",
        "import scipy.stats as st\n",
        "from sklearn import ensemble, tree, linear_model\n",
        "import missingno as msno\n"
      ]
    },
    {
      "cell_type": "code",
      "source": [
        "train = pd.read_csv('../input/train.csv')\n",
        "test = pd.read_csv('../input/test.csv')"
      ],
      "metadata": {
        "id": "dCuh6txtuZWD"
      },
      "execution_count": null,
      "outputs": []
    },
    {
      "cell_type": "code",
      "source": [
        "numeric_features = train.select_dtypes(include=[np.number])\n",
        "\n",
        "numeric_features.columns"
      ],
      "metadata": {
        "id": "_z8VRLNwudLI"
      },
      "execution_count": null,
      "outputs": []
    },
    {
      "cell_type": "code",
      "source": [
        "categorical_features = train.select_dtypes(include=[np.object])\n",
        "\n",
        "categorical_features.columns"
      ],
      "metadata": {
        "id": "sYh7VO2PugcH"
      },
      "execution_count": null,
      "outputs": []
    },
    {
      "cell_type": "code",
      "source": [
        "msno.matrix(train.sample(300))\n",
        "\n"
      ],
      "metadata": {
        "id": "5gnYlppuujNC"
      },
      "execution_count": null,
      "outputs": []
    },
    {
      "cell_type": "code",
      "source": [
        "msno.heatmap(train)\n",
        "msno.bar(train.sample(1000))"
      ],
      "metadata": {
        "id": "sOqZ1BALum3M"
      },
      "execution_count": null,
      "outputs": []
    },
    {
      "cell_type": "code",
      "source": [
        "msno.dendrogram(train)\n"
      ],
      "metadata": {
        "id": "7r2FdRJrupnQ"
      },
      "execution_count": null,
      "outputs": []
    },
    {
      "cell_type": "code",
      "source": [
        "train.skew(), train.kurt()\n",
        "y = train['SalePrice']\n",
        "plt.figure(1); plt.title('Johnson SU')\n",
        "sns.distplot(y, kde=False, fit=st.johnsonsu)\n",
        "plt.figure(2); plt.title('Normal')\n",
        "sns.distplot(y, kde=False, fit=st.norm)\n",
        "plt.figure(3); plt.title('Log Normal')\n",
        "sns.distplot(y, kde=False, fit=st.lognorm)"
      ],
      "metadata": {
        "id": "-_ny4-wzustr"
      },
      "execution_count": null,
      "outputs": []
    },
    {
      "cell_type": "code",
      "source": [
        "sns.distplot(train.skew(),color='blue',axlabel ='Skewness')\n",
        "plt.figure(figsize = (12,8))\n",
        "sns.distplot(train.kurt(),color='r',axlabel ='Kurtosis',norm_hist= False, kde = True,rug = False)\n",
        "#plt.hist(train.kurt(),orientation = 'vertical',histtype = 'bar',label ='Kurtosis', color ='blue')\n",
        "plt.show()\n",
        "plt.hist(train['SalePrice'],orientation = 'vertical',histtype = 'bar', color ='blue')\n",
        "plt.show()\n",
        "target = np.log(train['SalePrice'])\n",
        "target.skew()\n",
        "plt.hist(target,color='blue')"
      ],
      "metadata": {
        "id": "JxkzFcQ2uwhW"
      },
      "execution_count": null,
      "outputs": []
    },
    {
      "cell_type": "code",
      "source": [
        "correlation = numeric_features.corr()\n",
        "print(correlation['SalePrice'].sort_values(ascending = False),'\\n')"
      ],
      "metadata": {
        "id": "UxIsAfyYuzq3"
      },
      "execution_count": null,
      "outputs": []
    },
    {
      "cell_type": "code",
      "source": [
        "f , ax = plt.subplots(figsize = (14,12))\n",
        "\n",
        "plt.title('Correlation of Numeric Features with Sale Price',y=1,size=16)\n",
        "\n",
        "sns.heatmap(correlation,square = True,  vmax=0.8)"
      ],
      "metadata": {
        "id": "PhR6YcSvu2eR"
      },
      "execution_count": null,
      "outputs": []
    },
    {
      "cell_type": "code",
      "source": [
        "k= 11\n",
        "cols = correlation.nlargest(k,'SalePrice')['SalePrice'].index\n",
        "print(cols)\n",
        "cm = np.corrcoef(train[cols].values.T)\n",
        "f , ax = plt.subplots(figsize = (14,12))\n",
        "sns.heatmap(cm, vmax=.8, linewidths=0.01,square=True,annot=True,cmap='viridis',\n",
        "            linecolor=\"white\",xticklabels = cols.values ,annot_kws = {'size':12},yticklabels = cols.values)"
      ],
      "metadata": {
        "id": "ZAxbt8R-u46P"
      },
      "execution_count": null,
      "outputs": []
    },
    {
      "cell_type": "code",
      "source": [
        "sns.set()\n",
        "columns = ['SalePrice','OverallQual','TotalBsmtSF','GrLivArea','GarageArea','FullBath','YearBuilt','YearRemodAdd']\n",
        "sns.pairplot(train[columns],size = 2 ,kind ='scatter',diag_kind='kde')\n",
        "plt.show()"
      ],
      "metadata": {
        "id": "UYNpJtq7u8af"
      },
      "execution_count": null,
      "outputs": []
    },
    {
      "cell_type": "code",
      "source": [
        "fig, ((ax1, ax2), (ax3, ax4),(ax5,ax6)) = plt.subplots(nrows=3, ncols=2, figsize=(14,10))\n",
        "OverallQual_scatter_plot = pd.concat([train['SalePrice'],train['OverallQual']],axis = 1)\n",
        "sns.regplot(x='OverallQual',y = 'SalePrice',data = OverallQual_scatter_plot,scatter= True, fit_reg=True, ax=ax1)\n",
        "TotalBsmtSF_scatter_plot = pd.concat([train['SalePrice'],train['TotalBsmtSF']],axis = 1)\n",
        "sns.regplot(x='TotalBsmtSF',y = 'SalePrice',data = TotalBsmtSF_scatter_plot,scatter= True, fit_reg=True, ax=ax2)\n",
        "GrLivArea_scatter_plot = pd.concat([train['SalePrice'],train['GrLivArea']],axis = 1)\n",
        "sns.regplot(x='GrLivArea',y = 'SalePrice',data = GrLivArea_scatter_plot,scatter= True, fit_reg=True, ax=ax3)\n",
        "GarageArea_scatter_plot = pd.concat([train['SalePrice'],train['GarageArea']],axis = 1)\n",
        "sns.regplot(x='GarageArea',y = 'SalePrice',data = GarageArea_scatter_plot,scatter= True, fit_reg=True, ax=ax4)\n",
        "FullBath_scatter_plot = pd.concat([train['SalePrice'],train['FullBath']],axis = 1)\n",
        "sns.regplot(x='FullBath',y = 'SalePrice',data = FullBath_scatter_plot,scatter= True, fit_reg=True, ax=ax5)\n",
        "YearBuilt_scatter_plot = pd.concat([train['SalePrice'],train['YearBuilt']],axis = 1)\n",
        "sns.regplot(x='YearBuilt',y = 'SalePrice',data = YearBuilt_scatter_plot,scatter= True, fit_reg=True, ax=ax6)\n",
        "YearRemodAdd_scatter_plot = pd.concat([train['SalePrice'],train['YearRemodAdd']],axis = 1)\n",
        "YearRemodAdd_scatter_plot.plot.scatter('YearRemodAdd','SalePrice')\n",
        "saleprice_overall_quality= train.pivot_table(index ='OverallQual',values = 'SalePrice', aggfunc = np.median)\n",
        "saleprice_overall_quality.plot(kind = 'bar',color = 'blue')\n",
        "plt.xlabel('Overall Quality')\n",
        "plt.ylabel('Median Sale Price')\n",
        "plt.show()"
      ],
      "metadata": {
        "id": "okA5kXAcvAAE"
      },
      "execution_count": null,
      "outputs": []
    },
    {
      "cell_type": "code",
      "source": [
        "var = 'OverallQual'\n",
        "data = pd.concat([train['SalePrice'], train[var]], axis=1)\n",
        "f, ax = plt.subplots(figsize=(12, 8))\n",
        "fig = sns.boxplot(x=var, y=\"SalePrice\", data=data)\n",
        "fig.axis(ymin=0, ymax=800000);"
      ],
      "metadata": {
        "id": "pEBMVFj9vDWo"
      },
      "execution_count": null,
      "outputs": []
    },
    {
      "cell_type": "code",
      "source": [
        "var = 'Neighborhood'\n",
        "data = pd.concat([train['SalePrice'], train[var]], axis=1)\n",
        "f, ax = plt.subplots(figsize=(16, 10))\n",
        "fig = sns.boxplot(x=var, y=\"SalePrice\", data=data)\n",
        "fig.axis(ymin=0, ymax=800000);\n",
        "xt = plt.xticks(rotation=45)"
      ],
      "metadata": {
        "id": "J9V-2LsRvGCy"
      },
      "execution_count": null,
      "outputs": []
    },
    {
      "cell_type": "code",
      "source": [
        "for c in categorical_features:\n",
        "    train[c] = train[c].astype('category')\n",
        "    if train[c].isnull().any():\n",
        "        train[c] = train[c].cat.add_categories(['MISSING'])\n",
        "        train[c] = train[c].fillna('MISSING')\n",
        "\n",
        "def boxplot(x, y, **kwargs):\n",
        "    sns.boxplot(x=x, y=y)\n",
        "    x=plt.xticks(rotation=90)\n",
        "f = pd.melt(train, id_vars=['SalePrice'], value_vars=categorical_features)\n",
        "g = sns.FacetGrid(f, col=\"variable\",  col_wrap=2, sharex=False, sharey=False, size=5)\n",
        "g = g.map(boxplot, \"value\", \"SalePrice\")"
      ],
      "metadata": {
        "id": "GwaGvOX5vIGV"
      },
      "execution_count": null,
      "outputs": []
    },
    {
      "cell_type": "code",
      "source": [
        "var = 'SaleType'\n",
        "data = pd.concat([train['SalePrice'], train[var]], axis=1)\n",
        "f, ax = plt.subplots(figsize=(16, 10))\n",
        "fig = sns.boxplot(x=var, y=\"SalePrice\", data=data)\n",
        "fig.axis(ymin=0, ymax=800000);\n",
        "xt = plt.xticks(rotation=45)\n",
        "var = 'SaleCondition'\n",
        "data = pd.concat([train['SalePrice'], train[var]], axis=1)\n",
        "f, ax = plt.subplots(figsize=(16, 10))\n",
        "fig = sns.boxplot(x=var, y=\"SalePrice\", data=data)\n",
        "fig.axis(ymin=0, ymax=800000);\n",
        "xt = plt.xticks(rotation=45)"
      ],
      "metadata": {
        "id": "z6HxHIvCvKyt"
      },
      "execution_count": null,
      "outputs": []
    },
    {
      "cell_type": "code",
      "source": [
        "plt.figure(figsize=(8,10))\n",
        "g1 = sns.pointplot(x='Neighborhood', y='SalePrice', \n",
        "                   data=train, hue='LotShape')\n",
        "g1.set_xticklabels(g1.get_xticklabels(),rotation=90)\n",
        "g1.set_title(\"Lotshape Based on Neighborhood\", fontsize=15)\n",
        "g1.set_xlabel(\"Neighborhood\")\n",
        "g1.set_ylabel(\"Sale Price\", fontsize=12)\n",
        "plt.show()"
      ],
      "metadata": {
        "id": "PyjcF1fXvN6M"
      },
      "execution_count": null,
      "outputs": []
    },
    {
      "cell_type": "code",
      "source": [
        "total = numeric_features.isnull().sum().sort_values(ascending=False)\n",
        "percent = (numeric_features.isnull().sum()/numeric_features.isnull().count()).sort_values(ascending=False)\n",
        "missing_data = pd.concat([total, percent], axis=1,join='outer', keys=['Total Missing Count', '% of Total Observations'])\n",
        "missing_data.index.name =' Numeric Feature'\n",
        "\n",
        "missing_data.head(20)\n",
        "#Missing values for all numeric features in Bar chart Representation\n",
        "missing_values = numeric_features.isnull().sum(axis=0).reset_index()\n",
        "missing_values.columns = ['column_name', 'missing_count']\n",
        "missing_values = missing_values.loc[missing_values['missing_count']>0]\n",
        "missing_values = missing_values.sort_values(by='missing_count')\n",
        "\n",
        "ind = np.arange(missing_values.shape[0])\n",
        "width = 0.1\n",
        "fig, ax = plt.subplots(figsize=(12,3))\n",
        "rects = ax.barh(ind, missing_values.missing_count.values, color='b')\n",
        "ax.set_yticks(ind)\n",
        "ax.set_yticklabels(missing_values.column_name.values, rotation='horizontal')\n",
        "ax.set_xlabel(\"Missing Observations Count\")\n",
        "ax.set_title(\"Missing Observations Count - Numeric Features\")\n",
        "plt.show()"
      ],
      "metadata": {
        "id": "KoeszuQivQq7"
      },
      "execution_count": null,
      "outputs": []
    },
    {
      "cell_type": "code",
      "source": [
        "total = categorical_features.isnull().sum().sort_values(ascending=False)\n",
        "percent = (categorical_features.isnull().sum()/categorical_features.isnull().count()).sort_values(ascending=False)\n",
        "missing_data = pd.concat([total, percent], axis=1,join='outer', keys=['Total Missing Count', ' % of Total Observations'])\n",
        "missing_data.index.name ='Feature'\n",
        "missing_data.head(20)\n",
        "#Missing values for Categorical features in Bar chart Representation\n",
        "missing_values = categorical_features.isnull().sum(axis=0).reset_index()\n",
        "missing_values.columns = ['column_name', 'missing_count']\n",
        "missing_values = missing_values.loc[missing_values['missing_count']>0]\n",
        "missing_values = missing_values.sort_values(by='missing_count')\n",
        "\n",
        "ind = np.arange(missing_values.shape[0])\n",
        "width = 0.9\n",
        "fig, ax = plt.subplots(figsize=(12,18))\n",
        "rects = ax.barh(ind, missing_values.missing_count.values, color='red')\n",
        "ax.set_yticks(ind)\n",
        "ax.set_yticklabels(missing_values.column_name.values, rotation='horizontal')\n",
        "ax.set_xlabel(\"Missing Observations Count\")\n",
        "ax.set_title(\"Missing Observations Count - Categorical Features\")\n",
        "plt.show()"
      ],
      "metadata": {
        "id": "ULePcRkTvUiQ"
      },
      "execution_count": null,
      "outputs": []
    },
    {
      "cell_type": "code",
      "source": [
        "for column_name in train.columns:\n",
        "    if train[column_name].dtypes == 'object':\n",
        "        train[column_name] = train[column_name].fillna(train[column_name].mode().iloc[0])\n",
        "        unique_category = len(train[column_name].unique())\n",
        "        print(\"Feature '{column_name}' has '{unique_category}' unique categories\".format(column_name = column_name,\n",
        "                                                                                         unique_category=unique_category))\n",
        " \n",
        "for column_name in test.columns:\n",
        "    if test[column_name].dtypes == 'object':\n",
        "        test[column_name] = test[column_name].fillna(test[column_name].mode().iloc[0])\n",
        "        unique_category = len(test[column_name].unique())\n",
        "        print(\"Features in test set '{column_name}' has '{unique_category}' unique categories\".format(column_name = column_name, unique_category=unique_ca"
      ],
      "metadata": {
        "id": "V3LA9F3svZRS"
      },
      "execution_count": null,
      "outputs": []
    }
  ]
}